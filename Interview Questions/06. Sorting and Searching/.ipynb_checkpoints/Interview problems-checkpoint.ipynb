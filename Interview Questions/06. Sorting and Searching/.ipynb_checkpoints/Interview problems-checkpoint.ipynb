{
 "cells": [
  {
   "cell_type": "markdown",
   "metadata": {},
   "source": [
    "##  1. Implement Binary Search"
   ]
  },
  {
   "cell_type": "code",
   "execution_count": 6,
   "metadata": {},
   "outputs": [
    {
     "name": "stdout",
     "output_type": "stream",
     "text": [
      "-1\n"
     ]
    }
   ],
   "source": [
    "def binarySearch(arr, x):\n",
    "    left = 0\n",
    "    right = len(arr) - 1\n",
    "    while left <= right:\n",
    "        mid = (left + right) // 2\n",
    "        if arr[mid] == x:\n",
    "            return mid\n",
    "        elif arr[mid] > x:\n",
    "            right = mid - 1\n",
    "        else:\n",
    "            left = mid + 1\n",
    "    return -1\n",
    "\n",
    "arr = [2, 4, 6, 7, 9, 12, 15]\n",
    "print(binarySearch(arr, 1))"
   ]
  },
  {
   "cell_type": "markdown",
   "metadata": {},
   "source": [
    "## 2. Implement Bubble Sort"
   ]
  },
  {
   "cell_type": "code",
   "execution_count": 12,
   "metadata": {},
   "outputs": [
    {
     "name": "stdout",
     "output_type": "stream",
     "text": [
      "[2, 3, 4, 6, 7, 12, 19]\n"
     ]
    }
   ],
   "source": [
    "def bubbleSorting(arr):\n",
    "    lastIndex = len(arr) - 1\n",
    "    for i in range(len(arr)):\n",
    "        for j in range(lastIndex):\n",
    "            if arr[j] > arr[j+1]:\n",
    "                temp = arr[j]\n",
    "                arr[j] = arr[j+1]\n",
    "                arr[j+1] = temp\n",
    "                lastIndex=j\n",
    "                \n",
    "arr = [2, 6, 3, 4, 7, 19, 12]\n",
    "bubbleSorting(arr)\n",
    "print(arr)"
   ]
  },
  {
   "cell_type": "markdown",
   "metadata": {},
   "source": [
    "## 3. Implement Selection Sort "
   ]
  },
  {
   "cell_type": "code",
   "execution_count": 17,
   "metadata": {},
   "outputs": [
    {
     "name": "stdout",
     "output_type": "stream",
     "text": [
      "[2, 3, 4, 6, 7, 12, 19]\n"
     ]
    }
   ],
   "source": [
    "def selectionSort(arr):\n",
    "    for i in range(len(arr)):\n",
    "        minIndex = i\n",
    "        for j in range(i, len(arr)):\n",
    "            if arr[minIndex] > arr[j]:\n",
    "                minIndex = j                \n",
    "        temp = arr[minIndex]\n",
    "        arr[minIndex] = arr[i]\n",
    "        arr[i] = temp\n",
    "\n",
    "            \n",
    "arr = [2, 6, 3, 4, 7, 19, 12]\n",
    "selectionSort(arr)\n",
    "print(arr)   "
   ]
  },
  {
   "cell_type": "markdown",
   "metadata": {},
   "source": [
    "## 4. Implement Insertion Sort "
   ]
  },
  {
   "cell_type": "code",
   "execution_count": 19,
   "metadata": {},
   "outputs": [
    {
     "name": "stdout",
     "output_type": "stream",
     "text": [
      "[2, 3, 4, 6, 7, 12, 19]\n"
     ]
    }
   ],
   "source": [
    "def insertionSort(arr):\n",
    "    for i in range(1, len(arr)):\n",
    "        currentValue = arr[i]\n",
    "        j = i\n",
    "        while j > 0 and arr[j-1] > currentValue:\n",
    "            arr[j] = arr[j-1]\n",
    "            j-=1\n",
    "        arr[j] = currentValue\n",
    "\n",
    "arr = [2, 6, 3, 4, 7, 19, 12]\n",
    "insertionSort(arr)\n",
    "print(arr)   "
   ]
  },
  {
   "cell_type": "markdown",
   "metadata": {},
   "source": [
    "## 5. Implement Shell Sort"
   ]
  },
  {
   "cell_type": "code",
   "execution_count": 22,
   "metadata": {},
   "outputs": [
    {
     "name": "stdout",
     "output_type": "stream",
     "text": [
      "[2, 3, 4, 6, 7, 12, 19]\n"
     ]
    }
   ],
   "source": [
    "def shellSort(arr):\n",
    "    sublistcount = len(arr) // 2\n",
    "    while sublistcount > 0:\n",
    "        for start in range(sublistcount):\n",
    "            gap_insertionSort(arr, start, sublistcount)\n",
    "        sublistcount = sublistcount // 2\n",
    "    pass\n",
    "\n",
    "def gap_insertionSort(arr, start, gap):\n",
    "    \n",
    "    for i in range(start + gap, len(arr), gap):\n",
    "        currentValue = arr[i]\n",
    "        j = i\n",
    "        while j >= gap and arr[j-gap] > currentValue:\n",
    "            arr[j] = arr[j-gap]\n",
    "            j = j - gap\n",
    "        arr[j] = currentValue\n",
    "    \n",
    "    pass\n",
    "\n",
    "arr = [2, 6, 3, 4, 7, 19, 12]\n",
    "shellSort(arr)\n",
    "print(arr)   "
   ]
  },
  {
   "cell_type": "markdown",
   "metadata": {},
   "source": [
    "## 6. Implement Merge Sort"
   ]
  },
  {
   "cell_type": "code",
   "execution_count": 48,
   "metadata": {},
   "outputs": [
    {
     "name": "stdout",
     "output_type": "stream",
     "text": [
      "[2, 3, 4, 5, 6, 7, 12, 19]\n"
     ]
    }
   ],
   "source": [
    "def mergeSort(arr, left, right):\n",
    "    if left >= right:\n",
    "        return\n",
    "    \n",
    "    mid = (left + right) // 2\n",
    "    mergeSort(arr, left, mid)\n",
    "    mergeSort(arr, mid+1, right)\n",
    "    merge(arr, left, mid, right)\n",
    "\n",
    "def merge(arr, left, mid, right):\n",
    "    \n",
    "    tempArray = [None] * (right - left + 1)\n",
    "    i = left\n",
    "    j = mid + 1\n",
    "    index = 0\n",
    "    while i <= j and i <= mid and j <= right:\n",
    "        if arr[i] < arr[j]:\n",
    "            tempArray[index] = arr[i]\n",
    "            i += 1\n",
    "        else:\n",
    "            tempArray[index] = arr[j]\n",
    "            j += 1\n",
    "        index += 1\n",
    "        \n",
    "    \n",
    "    while i <= mid:\n",
    "        tempArray[index] = arr[i]\n",
    "        i += 1\n",
    "        index += 1\n",
    "        \n",
    "    while j <= right:\n",
    "        tempArray[index] = arr[j]\n",
    "        j += 1\n",
    "        index += 1\n",
    "    \n",
    "    for i in range(len(tempArray)):\n",
    "        arr[left + i] = tempArray[i]\n",
    "\n",
    "arr = [2, 6, 3, 4, 7, 5, 19, 12]\n",
    "mergeSort(arr, 0, len(arr) - 1)\n",
    "print(arr)   "
   ]
  },
  {
   "cell_type": "markdown",
   "metadata": {},
   "source": [
    "## 7. Implement Quick Sort "
   ]
  },
  {
   "cell_type": "code",
   "execution_count": 75,
   "metadata": {},
   "outputs": [
    {
     "name": "stdout",
     "output_type": "stream",
     "text": [
      "[2, 3, 4, 4, 5, 6, 7, 12, 19]\n"
     ]
    }
   ],
   "source": [
    "def quickSort(arr, left, right):\n",
    "    if left > right:\n",
    "        return\n",
    "    \n",
    "    x = partition(arr, left, right)\n",
    "    quickSort(arr, left, x-1)\n",
    "    quickSort(arr, x+1, right)\n",
    "    \n",
    "def partition(arr, left, right):\n",
    "    pivot = arr[right]\n",
    "    \n",
    "    index = left - 1\n",
    "    for i in range(left, right):\n",
    "        if arr[i] < pivot:\n",
    "            index += 1\n",
    "            swap(arr, index, i)\n",
    "            \n",
    "    swap(arr, index+1, right)    \n",
    "    return index+1\n",
    "\n",
    "def swap(arr, x, y):\n",
    "    temp = arr[x]\n",
    "    arr[x] = arr[y]\n",
    "    arr[y] = temp\n",
    "            \n",
    "    \n",
    "arr = [2, 6, 3, 4, 4, 7, 5, 19, 12]\n",
    "quickSort(arr, 0, len(arr) - 1)\n",
    "print(arr)   \n",
    "    "
   ]
  },
  {
   "cell_type": "code",
   "execution_count": null,
   "metadata": {},
   "outputs": [],
   "source": []
  }
 ],
 "metadata": {
  "kernelspec": {
   "display_name": "Python 3",
   "language": "python",
   "name": "python3"
  },
  "language_info": {
   "codemirror_mode": {
    "name": "ipython",
    "version": 3
   },
   "file_extension": ".py",
   "mimetype": "text/x-python",
   "name": "python",
   "nbconvert_exporter": "python",
   "pygments_lexer": "ipython3",
   "version": "3.6.5"
  }
 },
 "nbformat": 4,
 "nbformat_minor": 2
}
