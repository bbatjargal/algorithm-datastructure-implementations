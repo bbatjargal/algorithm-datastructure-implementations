{
 "cells": [
  {
   "cell_type": "markdown",
   "metadata": {},
   "source": [
    "# Binary Search Tree Check \n",
    "\n",
    "## Problem Statement\n",
    "\n",
    "Given a binary tree, check whether it’s a binary search tree or not.\n",
    "\n",
    "** Again, no solution cell, just worry about your code making sense logically. Hint: Think about tree traversals. **\n",
    "\n",
    "## Solution\n",
    "\n",
    "Fill out your solution below:"
   ]
  },
  {
   "cell_type": "code",
   "execution_count": 29,
   "metadata": {},
   "outputs": [
    {
     "data": {
      "text/plain": [
       "False"
      ]
     },
     "execution_count": 29,
     "metadata": {},
     "output_type": "execute_result"
    }
   ],
   "source": [
    "# Code goes Here\n",
    "class TreeNode:\n",
    "    def __init__(self, val):\n",
    "        self.right = None\n",
    "        self.left = None\n",
    "        self.value = val\n",
    "\n",
    "n0 = TreeNode(5)\n",
    "n1 = TreeNode(3)\n",
    "n2 = TreeNode(8)\n",
    "n3 = TreeNode(17)\n",
    "n4 = TreeNode(4)\n",
    "n5 = TreeNode(7)\n",
    "n6 = TreeNode(9)\n",
    "\n",
    "n0.left = n1\n",
    "n0.right = n2\n",
    "\n",
    "n1.left = n3\n",
    "n1.right = n4\n",
    "\n",
    "n2.left = n5\n",
    "n2.right = n6\n",
    "\n",
    "def validateBST(node):\n",
    "    if node == None:\n",
    "        return True    \n",
    "    if node.left and (node.left.value >= node.value or not validateBST(node.left)):\n",
    "        return False            \n",
    "    if node.right and (node.right.value < node.value or not validateBST(node.right)):\n",
    "        return False    \n",
    "    return True\n",
    "\n",
    "validateBST(n0)\n",
    "    \n",
    "    "
   ]
  },
  {
   "cell_type": "markdown",
   "metadata": {},
   "source": [
    "This is a classic interview problem, so feel free to just Google search \"Validate BST\" for more information on this problem!"
   ]
  }
 ],
 "metadata": {
  "kernelspec": {
   "display_name": "Python 3",
   "language": "python",
   "name": "python3"
  },
  "language_info": {
   "codemirror_mode": {
    "name": "ipython",
    "version": 3
   },
   "file_extension": ".py",
   "mimetype": "text/x-python",
   "name": "python",
   "nbconvert_exporter": "python",
   "pygments_lexer": "ipython3",
   "version": "3.6.5"
  }
 },
 "nbformat": 4,
 "nbformat_minor": 1
}
