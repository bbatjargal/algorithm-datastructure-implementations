{
 "cells": [
  {
   "cell_type": "markdown",
   "metadata": {},
   "source": [
    "# Tree Level Order Print \n",
    "\n",
    "Given a binary tree of integers, print it in level order. The output will contain space between the numbers in the same level, and new line between different levels. For example, if the tree is: \n",
    "___\n",
    "![title](tree_print.png)\n",
    "___\n",
    "The output should be: \n",
    "\n",
    "    1 \n",
    "    2 3 \n",
    "    4 5 6"
   ]
  },
  {
   "cell_type": "markdown",
   "metadata": {},
   "source": [
    "## Solution\n",
    "\n",
    "Fill out your solution below:"
   ]
  },
  {
   "cell_type": "code",
   "execution_count": 9,
   "metadata": {},
   "outputs": [],
   "source": [
    "class Node:\n",
    "    def __init__(self, val=None):\n",
    "        self.left = None\n",
    "        self.right = None\n",
    "        self.val =  val \n",
    "        \n",
    "\n",
    "n0 = Node(1)\n",
    "n1 = Node(2)\n",
    "n2 = Node(3)\n",
    "n3 = Node(4)\n",
    "n4 = Node(5)\n",
    "n5 = Node(6)\n",
    "\n",
    "n0.left = n1\n",
    "n0.right = n2\n",
    "\n",
    "n1.left = n3\n",
    "\n",
    "n2.left = n4\n",
    "n2.right = n5"
   ]
  },
  {
   "cell_type": "code",
   "execution_count": 11,
   "metadata": {},
   "outputs": [
    {
     "name": "stdout",
     "output_type": "stream",
     "text": [
      "1\n",
      "2 3\n",
      "4 5 6\n"
     ]
    }
   ],
   "source": [
    "levels = {}\n",
    "\n",
    "def levelOrderPrint(node, lvl):    \n",
    "    #Code here\n",
    "    if node == None:\n",
    "        return\n",
    "    \n",
    "    if lvl in levels:\n",
    "        levels[lvl].append(str(node.val))\n",
    "    else:\n",
    "        levels[lvl] = [str(node.val)]\n",
    "        \n",
    "    levelOrderPrint(node.left, lvl+1)\n",
    "    levelOrderPrint(node.right, lvl+1)\n",
    "    pass\n",
    "\n",
    "levelOrderPrint(n0, 0)\n",
    "\n",
    "for i in range(len(levels)):\n",
    "    print(\" \".join(levels[i]))"
   ]
  },
  {
   "cell_type": "code",
   "execution_count": 15,
   "metadata": {},
   "outputs": [
    {
     "name": "stdout",
     "output_type": "stream",
     "text": [
      "1 \n",
      "2 3 \n",
      "4 5 6 \n"
     ]
    }
   ],
   "source": [
    "import collections \n",
    "\n",
    "def levelOrderPrint(node):    \n",
    "    #Code here\n",
    "    if not node:\n",
    "        return\n",
    "    \n",
    "    nodes = collections.deque([node])\n",
    "    currentCount = 1\n",
    "    nextCount = 0\n",
    "    while len(nodes) != 0:\n",
    "        node = nodes.popleft()\n",
    "        currentCount -= 1\n",
    "        \n",
    "        print(node.val, end=' ')\n",
    "        \n",
    "        if node.left:\n",
    "            nodes.append(node.left)\n",
    "            nextCount +=1\n",
    "        \n",
    "        if node.right:\n",
    "            nodes.append(node.right)\n",
    "            nextCount += 1\n",
    "            \n",
    "        if currentCount == 0:\n",
    "            print(\"\")\n",
    "            currentCount, nextCount = nextCount, currentCount\n",
    "        \n",
    "    pass\n",
    "\n",
    "levelOrderPrint(n0)"
   ]
  },
  {
   "cell_type": "code",
   "execution_count": null,
   "metadata": {},
   "outputs": [],
   "source": []
  }
 ],
 "metadata": {
  "kernelspec": {
   "display_name": "Python 3",
   "language": "python",
   "name": "python3"
  },
  "language_info": {
   "codemirror_mode": {
    "name": "ipython",
    "version": 3
   },
   "file_extension": ".py",
   "mimetype": "text/x-python",
   "name": "python",
   "nbconvert_exporter": "python",
   "pygments_lexer": "ipython3",
   "version": "3.6.5"
  }
 },
 "nbformat": 4,
 "nbformat_minor": 1
}
