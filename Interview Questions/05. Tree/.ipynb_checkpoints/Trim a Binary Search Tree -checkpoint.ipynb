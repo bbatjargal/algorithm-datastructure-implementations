{
 "cells": [
  {
   "cell_type": "markdown",
   "metadata": {},
   "source": [
    "# Trim a Binary Search Tree \n",
    "\n",
    "## Problem Statement\n",
    "\n",
    "Given the root of a binary search tree and 2 numbers min and max, trim the tree such that all the numbers in the new tree are between min and max (inclusive). The resulting tree should still be a valid binary search tree. So, if we get this tree as input:\n",
    "___\n",
    "\n",
    "![title](bst1.png)\n",
    "___\n",
    "and we’re given **min value as 5** and **max value as 13**, then the resulting binary search tree should be: \n",
    "___\n",
    "![title](bst_trim.png)\n",
    "___\n",
    "We should remove all the nodes whose value is not between min and max. \n",
    "\n",
    "___\n",
    "** Feel free to reference the lecture on Binary Search Tree for the node class, but what it more important here is the logic of your function. In which case your function should be in the form:**"
   ]
  },
  {
   "cell_type": "code",
   "execution_count": 71,
   "metadata": {},
   "outputs": [],
   "source": [
    "class Node:\n",
    "    def __init__(self, val):\n",
    "        self.left = None\n",
    "        self.right = None\n",
    "        self.val = val\n",
    "        \n",
    "n0 = Node(8)\n",
    "n1 = Node(3)\n",
    "n2 = Node(10)\n",
    "n3 = Node(1)\n",
    "n4 = Node(6)\n",
    "n5 = Node(14)\n",
    "n6 = Node(4)\n",
    "n7 = Node(7)\n",
    "n8 = Node(13)\n",
    "\n",
    "n0.left = n1\n",
    "n0.right = n2\n",
    "\n",
    "n1.left = n3\n",
    "n1.right = n4\n",
    "\n",
    "n2.left = Node(9)\n",
    "n2.right = n5\n",
    "\n",
    "n4.left = n6\n",
    "n4.right = n7\n",
    "\n",
    "n5.left = n8"
   ]
  },
  {
   "cell_type": "code",
   "execution_count": 72,
   "metadata": {},
   "outputs": [
    {
     "name": "stdout",
     "output_type": "stream",
     "text": [
      "6\n",
      "7\n",
      "8\n",
      "9\n",
      "10\n",
      "13\n"
     ]
    }
   ],
   "source": [
    "import collections\n",
    "\n",
    "def trimBST(node,minVal,maxVal):\n",
    "    \n",
    "    root = node\n",
    "    if root.val < minVal or root.val > maxVal:\n",
    "        return None\n",
    "    \n",
    "    nodes = collections.deque([node])\n",
    "        \n",
    "    while len(nodes) != 0:        \n",
    "        node = nodes.popleft()\n",
    "        if node == None:\n",
    "            continue\n",
    "            \n",
    "        nodes.append(node.left)\n",
    "        nodes.append(node.right)\n",
    "        \n",
    "        if node.left != None and node.left.val < minVal:\n",
    "            node.left = node.left.right\n",
    "            \n",
    "        if node.right != None and node.right.val > maxVal:\n",
    "            node.right = node.right.left\n",
    "            \n",
    "    return root\n",
    "\n",
    "def treeTraverse(node):\n",
    "    if not node:\n",
    "        return\n",
    "    \n",
    "    treeTraverse(node.left)\n",
    "    print(node.val)\n",
    "    treeTraverse(node.right)\n",
    "    \n",
    "root = trimBST(n0, 5, 13)\n",
    "treeTraverse(root)\n",
    "\n",
    "# Use tree.left , tree.right , and tree.val as your methods to call"
   ]
  },
  {
   "cell_type": "code",
   "execution_count": 58,
   "metadata": {},
   "outputs": [
    {
     "name": "stdout",
     "output_type": "stream",
     "text": [
      "6\n",
      "7\n",
      "8\n",
      "9\n",
      "10\n",
      "13\n"
     ]
    }
   ],
   "source": [
    "def trimBST1(node,minVal,maxVal):\n",
    "    if not node:\n",
    "        return\n",
    "    \n",
    "    node.left = trimBST1(node.left, minVal, maxVal)\n",
    "    node.right = trimBST1(node.right, minVal, maxVal)\n",
    "    \n",
    "    if minVal <= node.val <= maxVal:\n",
    "        return node\n",
    "    \n",
    "    if node.val < minVal:\n",
    "        return node.right\n",
    "    \n",
    "    if node.val > maxVal:\n",
    "        return node.left\n",
    "    \n",
    "    pass\n",
    "\n",
    "trimBST1(n0, 5, 13)\n",
    "treeTraverse(n0)"
   ]
  },
  {
   "cell_type": "markdown",
   "metadata": {},
   "source": [
    "** There is no solution cell because the nature of the code should be more logical and a test would essentially give away the answer. Just focus your answer to fill out the logic of the solution using the methods described above **\n",
    "\n",
    "## Best of luck!"
   ]
  },
  {
   "cell_type": "code",
   "execution_count": null,
   "metadata": {},
   "outputs": [],
   "source": []
  }
 ],
 "metadata": {
  "kernelspec": {
   "display_name": "Python 3",
   "language": "python",
   "name": "python3"
  },
  "language_info": {
   "codemirror_mode": {
    "name": "ipython",
    "version": 3
   },
   "file_extension": ".py",
   "mimetype": "text/x-python",
   "name": "python",
   "nbconvert_exporter": "python",
   "pygments_lexer": "ipython3",
   "version": "3.6.5"
  }
 },
 "nbformat": 4,
 "nbformat_minor": 1
}
