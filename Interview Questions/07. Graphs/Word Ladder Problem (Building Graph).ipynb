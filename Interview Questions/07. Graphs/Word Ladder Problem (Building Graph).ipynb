{
 "cells": [
  {
   "cell_type": "markdown",
   "metadata": {},
   "source": [
    "## Graph "
   ]
  },
  {
   "cell_type": "code",
   "execution_count": 13,
   "metadata": {},
   "outputs": [],
   "source": [
    "class Vertex:\n",
    "    def __init__(self, key):\n",
    "        self.id = key\n",
    "        self.connectedTo = {}\n",
    "        \n",
    "    def addNeighbor(self, key, weight):\n",
    "        self.connectedTo[key] = weight\n",
    "    \n",
    "    def getNeighbors(self):\n",
    "        return self.connectedTo.keys()\n",
    "    \n",
    "    def getKey(self):\n",
    "        return self.id\n",
    "    \n",
    "    def __str__(self):\n",
    "        return str(self.id) + \" connected to: \" + str([ x for x in self.connectedTo])\n",
    "    \n",
    "class Graph:\n",
    "    def __init__(self):\n",
    "        self.vertList = {}\n",
    "        self.numVertices = 0\n",
    "        \n",
    "    def addVertex(self, key):\n",
    "        self.numVertices += 1\n",
    "        self.vertList[key] = Vertex(key)\n",
    "        return self.vertList[key]\n",
    "    \n",
    "    def getVertex(self, key):\n",
    "        if key in self.vertList.keys():\n",
    "            return self.vertList[key]\n",
    "        return None\n",
    "    \n",
    "    def getVertices(self):\n",
    "        return self.vertList.keys()\n",
    "    \n",
    "    def addEdge(self, frm, to, weight=0):\n",
    "        if frm not in self.vertList:\n",
    "            self.addVertex(frm)\n",
    "            \n",
    "        if to not in self.vertList:\n",
    "            self.addVertex(to)\n",
    "            \n",
    "        self.vertList[frm].addNeighbor(to, weight)\n",
    "        \n",
    "    def __iter__(self):\n",
    "        return iter(self.vertList.values())\n",
    "    \n",
    "    def __contains__(self, key):\n",
    "        return key in self.vertList.keys()\n",
    "    \n",
    "    def __str__(self):\n",
    "        result = \"\"\n",
    "        for vert in self.vertList:\n",
    "            result += str(self.vertList[vert]) + \"\\n\"\n",
    "        return result\n",
    "    "
   ]
  },
  {
   "cell_type": "markdown",
   "metadata": {},
   "source": [
    "## Building word Ladder"
   ]
  },
  {
   "cell_type": "code",
   "execution_count": 14,
   "metadata": {},
   "outputs": [
    {
     "name": "stdout",
     "output_type": "stream",
     "text": [
      "pope connected to: ['rope', 'pipe']\n",
      "rope connected to: ['pope', 'ripe']\n",
      "pipe connected to: ['pope', 'ripe']\n",
      "ripe connected to: ['rope', 'pipe']\n",
      "\n"
     ]
    }
   ],
   "source": [
    "def buildWordLadder():\n",
    "    wfile = open('words.txt', 'r')\n",
    "    \n",
    "    dicWords = {}\n",
    "    for line in wfile:\n",
    "        word = line.strip()\n",
    "        for i in range(len(word)):\n",
    "            bucket = word[:i] + \"_\" + word[i+1:]\n",
    "            if bucket in dicWords:\n",
    "                dicWords[bucket].append(word)\n",
    "            else:\n",
    "                dicWords[bucket] = [word]\n",
    "    \n",
    "    graph = Graph()\n",
    "    for bucket in dicWords:\n",
    "        for word1 in dicWords[bucket]:\n",
    "            for word2 in dicWords[bucket]:\n",
    "                if word1 != word2:\n",
    "                    graph.addEdge(word1, word2)\n",
    "    \n",
    "    print(graph)\n",
    "    pass\n",
    "\n",
    "buildWordLadder()"
   ]
  },
  {
   "cell_type": "code",
   "execution_count": null,
   "metadata": {},
   "outputs": [],
   "source": []
  }
 ],
 "metadata": {
  "kernelspec": {
   "display_name": "Python 3",
   "language": "python",
   "name": "python3"
  },
  "language_info": {
   "codemirror_mode": {
    "name": "ipython",
    "version": 3
   },
   "file_extension": ".py",
   "mimetype": "text/x-python",
   "name": "python",
   "nbconvert_exporter": "python",
   "pygments_lexer": "ipython3",
   "version": "3.6.5"
  }
 },
 "nbformat": 4,
 "nbformat_minor": 2
}
