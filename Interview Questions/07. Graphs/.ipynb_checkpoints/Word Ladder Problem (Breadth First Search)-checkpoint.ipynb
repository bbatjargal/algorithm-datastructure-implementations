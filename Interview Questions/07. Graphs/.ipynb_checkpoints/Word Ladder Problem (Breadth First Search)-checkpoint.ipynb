{
 "cells": [
  {
   "cell_type": "markdown",
   "metadata": {},
   "source": [
    "## Graph "
   ]
  },
  {
   "cell_type": "code",
   "execution_count": 51,
   "metadata": {},
   "outputs": [],
   "source": [
    "class Vertex:\n",
    "    def __init__(self, key):\n",
    "        self.id = key\n",
    "        self.connectedTo = {}\n",
    "        self.color = 'white'\n",
    "        self.distance = 0\n",
    "        self.pred = None\n",
    "        \n",
    "    def addNeighbor(self, key, weight):\n",
    "        self.connectedTo[key] = weight\n",
    "    \n",
    "    def getNeighbors(self):\n",
    "        return self.connectedTo.keys()\n",
    "    \n",
    "    def getKey(self):\n",
    "        return self.id\n",
    "    \n",
    "    def getColor(self):\n",
    "        return self.color\n",
    "    \n",
    "    def setColor(self, color):\n",
    "        self.color = color\n",
    "        \n",
    "    def getDistance(self):\n",
    "        return self.distance\n",
    "    \n",
    "    def setDistance(self, distance):\n",
    "        self.distance = distance\n",
    "        \n",
    "    def getPred(self):\n",
    "        return self.pred\n",
    "    \n",
    "    def setPred(self, pred):\n",
    "        self.pred = pred\n",
    "    \n",
    "    def __str__(self):\n",
    "        return str(self.id) + \" connected to: \" + str([ x for x in self.connectedTo])\n",
    "    \n",
    "class Graph:\n",
    "    def __init__(self):\n",
    "        self.vertList = {}\n",
    "        self.numVertices = 0\n",
    "        \n",
    "    def addVertex(self, key):\n",
    "        self.numVertices += 1\n",
    "        self.vertList[key] = Vertex(key)\n",
    "        return self.vertList[key]\n",
    "    \n",
    "    def getVertex(self, key):\n",
    "        if key in self.vertList.keys():\n",
    "            return self.vertList[key]\n",
    "        return None\n",
    "    \n",
    "    def getVertices(self):\n",
    "        return self.vertList.keys()\n",
    "    \n",
    "    def addEdge(self, frm, to, weight=0):\n",
    "        if frm not in self.vertList:\n",
    "            self.addVertex(frm)\n",
    "            \n",
    "        if to not in self.vertList:\n",
    "            self.addVertex(to)\n",
    "            \n",
    "        self.vertList[frm].addNeighbor(to, weight)\n",
    "        \n",
    "    def __iter__(self):\n",
    "        return iter(self.vertList.values())\n",
    "    \n",
    "    def __contains__(self, key):\n",
    "        return key in self.vertList.keys()\n",
    "    \n",
    "    def __str__(self):\n",
    "        result = \"\"\n",
    "        for vert in self.vertList:\n",
    "            result += str(self.vertList[vert]) + \"\\n\"\n",
    "        return result\n",
    "    "
   ]
  },
  {
   "cell_type": "markdown",
   "metadata": {},
   "source": [
    "## Building graph"
   ]
  },
  {
   "cell_type": "code",
   "execution_count": 64,
   "metadata": {},
   "outputs": [
    {
     "name": "stdout",
     "output_type": "stream",
     "text": [
      "fool connected to: ['pool', 'cool', 'foul', 'foil']\n",
      "pool connected to: ['fool', 'cool', 'poll']\n",
      "cool connected to: ['fool', 'pool']\n",
      "foul connected to: ['fool', 'foil']\n",
      "foil connected to: ['fool', 'foul', 'fail']\n",
      "fail connected to: ['foil', 'fall']\n",
      "fall connected to: ['fail', 'pall']\n",
      "pall connected to: ['fall', 'poll', 'pale']\n",
      "poll connected to: ['pall', 'pool', 'pole']\n",
      "pale connected to: ['pall', 'pole', 'sale', 'page']\n",
      "pole connected to: ['poll', 'pale', 'pope']\n",
      "pope connected to: ['pole']\n",
      "sale connected to: ['pale', 'sage']\n",
      "page connected to: ['pale', 'sage']\n",
      "sage connected to: ['page', 'sale']\n",
      "\n"
     ]
    }
   ],
   "source": [
    "def buildWordLadder():\n",
    "    wfile = open('words.txt', 'r')\n",
    "    \n",
    "    dicWords = {}\n",
    "    for line in wfile:\n",
    "        word = line.strip()\n",
    "        for i in range(len(word)):\n",
    "            bucket = word[:i] + \"_\" + word[i+1:]\n",
    "            if bucket in dicWords:\n",
    "                dicWords[bucket].append(word)\n",
    "            else:\n",
    "                dicWords[bucket] = [word]\n",
    "    \n",
    "    graph = Graph()\n",
    "    for bucket in dicWords:\n",
    "        for word1 in dicWords[bucket]:\n",
    "            for word2 in dicWords[bucket]:\n",
    "                if word1 != word2:\n",
    "                    graph.addEdge(word1, word2)\n",
    "    \n",
    "    return graph\n",
    "\n",
    "graph = buildWordLadder()\n",
    "print(graph)"
   ]
  },
  {
   "cell_type": "markdown",
   "metadata": {},
   "source": [
    "## Breadth First Search"
   ]
  },
  {
   "cell_type": "code",
   "execution_count": 65,
   "metadata": {},
   "outputs": [],
   "source": [
    "def breadthFirstSearch(graph, start, destKey):\n",
    "    start.setDistance(0)\n",
    "    start.setPred(None)\n",
    "    vertexQueue = [start]    \n",
    "    path = []\n",
    "    found = False\n",
    "    while len(vertexQueue) > 0:\n",
    "        currentNode = vertexQueue.pop()\n",
    "        \n",
    "        path.append(currentNode.getKey())\n",
    "        \n",
    "        if currentNode.getKey() == destKey:\n",
    "            found = True\n",
    "            break;            \n",
    "        \n",
    "        for nbrKey in currentNode.getNeighbors():\n",
    "            nbr = graph.getVertex(nbrKey)\n",
    "            if nbr.getColor() == 'white':\n",
    "                nbr.setColor('gray')\n",
    "                nbr.setDistance(currentNode.getDistance() + 1)\n",
    "                nbr.setPred(currentNode)\n",
    "                vertexQueue.append(nbr)\n",
    "        currentNode.setColor('black')\n",
    "        \n",
    "    if not found:\n",
    "        path = []\n",
    "        \n",
    "    return path"
   ]
  },
  {
   "cell_type": "code",
   "execution_count": 66,
   "metadata": {},
   "outputs": [
    {
     "name": "stdout",
     "output_type": "stream",
     "text": [
      "['fool', 'foil', 'fail', 'fall', 'pall', 'pale', 'page', 'sage']\n"
     ]
    }
   ],
   "source": [
    "path = breadthFirstSearch(graph, graph.getVertex('fool'), 'sage')\n",
    "print(path)"
   ]
  },
  {
   "cell_type": "code",
   "execution_count": null,
   "metadata": {},
   "outputs": [],
   "source": []
  }
 ],
 "metadata": {
  "kernelspec": {
   "display_name": "Python 3",
   "language": "python",
   "name": "python3"
  },
  "language_info": {
   "codemirror_mode": {
    "name": "ipython",
    "version": 3
   },
   "file_extension": ".py",
   "mimetype": "text/x-python",
   "name": "python",
   "nbconvert_exporter": "python",
   "pygments_lexer": "ipython3",
   "version": "3.6.5"
  }
 },
 "nbformat": 4,
 "nbformat_minor": 2
}
