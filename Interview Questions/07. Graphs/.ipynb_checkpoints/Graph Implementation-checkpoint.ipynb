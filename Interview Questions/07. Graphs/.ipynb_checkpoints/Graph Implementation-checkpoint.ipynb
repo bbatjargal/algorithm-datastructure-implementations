{
 "cells": [
  {
   "cell_type": "markdown",
   "metadata": {},
   "source": [
    "## Graph "
   ]
  },
  {
   "cell_type": "code",
   "execution_count": 22,
   "metadata": {},
   "outputs": [],
   "source": [
    "from enum import Enum\n",
    "from collections import OrderedDict\n",
    "\n",
    "class State(Enum):\n",
    "    unvisited = 1\n",
    "    visited = 2\n",
    "    visiting = 3\n",
    "    \n",
    "class Node:\n",
    "    def __init__(self, key):\n",
    "        self.key = key\n",
    "        self.state = State.unvisited\n",
    "        self.neighbors = OrderedDict() # <node, weight>\n",
    "        \n",
    "    def __str__(self):\n",
    "        return str(self.key) + \" connected to: \" + str([x.key for x in self.neighbors])\n",
    "    \n",
    "class Graph:\n",
    "    def __init__(self):\n",
    "        self.vertices = OrderedDict()\n",
    "        \n",
    "    def addVertex(self, key):\n",
    "        newNode = Node(key)\n",
    "        self.vertices[key] = newNode\n",
    "        return newNode\n",
    "    \n",
    "    def addEdge(self, source, dest, weight=0):\n",
    "        if source not in self.vertices:\n",
    "            self.addVertex(source)\n",
    "        if dest not in self.vertices:\n",
    "            self.addVertex(dest)\n",
    "            \n",
    "        self.vertices[source].neighbors[self.vertices[dest]] = weight \n",
    "        \n",
    "    def __str__(self):\n",
    "        result = \"\"\n",
    "        for key in self.vertices:\n",
    "            result += str( self.vertices[key]) + \"\\n\"\n",
    "        return result\n",
    "    "
   ]
  },
  {
   "cell_type": "code",
   "execution_count": 23,
   "metadata": {},
   "outputs": [
    {
     "name": "stdout",
     "output_type": "stream",
     "text": [
      "0 connected to: [1, 2]\n",
      "1 connected to: [2, 3]\n",
      "2 connected to: []\n",
      "3 connected to: []\n",
      "\n"
     ]
    }
   ],
   "source": [
    "graph = Graph()\n",
    "graph.addEdge(0, 1, 100)\n",
    "graph.addEdge(0, 2, 200)\n",
    "graph.addEdge(1, 2, 300)\n",
    "graph.addEdge(1, 3, 400)\n",
    "\n",
    "print(graph)"
   ]
  },
  {
   "cell_type": "code",
   "execution_count": null,
   "metadata": {},
   "outputs": [],
   "source": []
  }
 ],
 "metadata": {
  "kernelspec": {
   "display_name": "Python 3",
   "language": "python",
   "name": "python3"
  },
  "language_info": {
   "codemirror_mode": {
    "name": "ipython",
    "version": 3
   },
   "file_extension": ".py",
   "mimetype": "text/x-python",
   "name": "python",
   "nbconvert_exporter": "python",
   "pygments_lexer": "ipython3",
   "version": "3.6.5"
  }
 },
 "nbformat": 4,
 "nbformat_minor": 2
}
