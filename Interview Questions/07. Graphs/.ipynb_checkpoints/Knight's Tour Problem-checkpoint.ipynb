{
 "cells": [
  {
   "cell_type": "markdown",
   "metadata": {},
   "source": [
    "## Graph"
   ]
  },
  {
   "cell_type": "code",
   "execution_count": 13,
   "metadata": {},
   "outputs": [],
   "source": [
    "class Vertex:\n",
    "    def __init__(self, key):\n",
    "        self.id = key\n",
    "        self.connectedTo = {}\n",
    "        self.color = 'white'\n",
    "        self.distance = 0\n",
    "        self.pred = None\n",
    "        \n",
    "    def addNeighbor(self, key, weight):\n",
    "        self.connectedTo[key] = weight\n",
    "    \n",
    "    def getNeighbors(self):\n",
    "        return self.connectedTo.keys()\n",
    "    \n",
    "    def getKey(self):\n",
    "        return self.id\n",
    "    \n",
    "    def getColor(self):\n",
    "        return self.color\n",
    "    \n",
    "    def setColor(self, color):\n",
    "        self.color = color\n",
    "        \n",
    "    def getDistance(self):\n",
    "        return self.distance\n",
    "    \n",
    "    def setDistance(self, distance):\n",
    "        self.distance = distance\n",
    "        \n",
    "    def getPred(self):\n",
    "        return self.pred\n",
    "    \n",
    "    def setPred(self, pred):\n",
    "        self.pred = pred\n",
    "    \n",
    "    def __str__(self):\n",
    "        return str(self.id) + \" connected to: \" + str([ x for x in self.connectedTo])\n",
    "    \n",
    "class Graph:\n",
    "    def __init__(self):\n",
    "        self.vertList = {}\n",
    "        self.numVertices = 0\n",
    "        \n",
    "    def addVertex(self, key):\n",
    "        self.numVertices += 1\n",
    "        self.vertList[key] = Vertex(key)\n",
    "        return self.vertList[key]\n",
    "    \n",
    "    def getVertex(self, key):\n",
    "        if key in self.vertList.keys():\n",
    "            return self.vertList[key]\n",
    "        return None\n",
    "    \n",
    "    def getVertices(self):\n",
    "        return self.vertList.keys()\n",
    "    \n",
    "    def addEdge(self, frm, to, weight=0):\n",
    "        if frm not in self.vertList:\n",
    "            self.addVertex(frm)\n",
    "            \n",
    "        if to not in self.vertList:\n",
    "            self.addVertex(to)\n",
    "            \n",
    "        self.vertList[frm].addNeighbor(to, weight)\n",
    "        \n",
    "    def __iter__(self):\n",
    "        return iter(self.vertList.values())\n",
    "    \n",
    "    def __contains__(self, key):\n",
    "        return key in self.vertList.keys()\n",
    "    \n",
    "    def __str__(self):\n",
    "        result = \"\"\n",
    "        for vert in self.vertList:\n",
    "            result += str(self.vertList[vert]) + \"\\n\"\n",
    "        return result\n",
    "    "
   ]
  },
  {
   "cell_type": "code",
   "execution_count": 14,
   "metadata": {},
   "outputs": [],
   "source": [
    "def knightGraph(bdSize):\n",
    "    ktGraph = Graph()\n",
    "    for row in range(bdSize):\n",
    "        for col in range(bdSize):\n",
    "            nodeId = posToNodeId(row, col, bdSize)\n",
    "            newPositions = genLegalMoves(row, col, bdSize)\n",
    "            for e in newPositions:\n",
    "                nid = posToNodeId(e[0], e[1], bdSize)\n",
    "                ktGraph.addEdge(nodeId, nid)\n",
    "    return ktGraph\n",
    "\n",
    "def posToNodeId(row, column, board_size):\n",
    "    return (row * board_size) + column"
   ]
  },
  {
   "cell_type": "code",
   "execution_count": 15,
   "metadata": {},
   "outputs": [],
   "source": [
    "def genLegalMoves(x, y, bdSize):\n",
    "    newMoves = []\n",
    "    moveOffsets = [(-1, -2),(-1, 2), (-2, -1), (-2, 1),\n",
    "                   (1, 2), (1, -2), (2, -1), (2, 1)]\n",
    "    for offset in moveOffsets:\n",
    "        newX = x + offset[0]\n",
    "        newY = y + offset[1]\n",
    "        if legalCoordinate(newX, bdSize) and \\\n",
    "            legalCoordinate(newY, bdSize):\n",
    "                newMoves.append((newX, newY))\n",
    "    return newMoves\n",
    "        \n",
    "def legalCoordinate(x, bdSize):\n",
    "    if x >= 0 and x < bdSize:\n",
    "        return True\n",
    "    return False"
   ]
  },
  {
   "cell_type": "code",
   "execution_count": 37,
   "metadata": {},
   "outputs": [],
   "source": [
    "def knightTour(graph, n, path, u, limit):\n",
    "    \"\"\"\n",
    "        n - the current depth in the search tree\n",
    "        path - a list of vertices visited up to this point\n",
    "        u - the vertext in the graph we with to explore\n",
    "        limit - the number of nodes in the path\n",
    "    \"\"\"\n",
    "    u.setColor('gray')\n",
    "    path.append(u.getKey())\n",
    "    if n < limit:\n",
    "        #nbrList = list(u.getConnections())\n",
    "        nbrList = list(u.getNeighbors())\n",
    "        i = 0\n",
    "        done = False\n",
    "        while i < len(nbrList) and not done:\n",
    "            nbr = graph.getVertex(nbrList[i])\n",
    "            if nbr.getColor() == 'white':\n",
    "                done = knightTour(graph, n+1, path, nbr, limit)\n",
    "            i = i + 1\n",
    "        #if not done: # prepare to backtrack\n",
    "        #    path.pop()\n",
    "        #    u.setColor('white')\n",
    "    else:\n",
    "        done = True\n",
    "    return done\n",
    "    "
   ]
  },
  {
   "cell_type": "code",
   "execution_count": 39,
   "metadata": {},
   "outputs": [
    {
     "name": "stdout",
     "output_type": "stream",
     "text": [
      "[0, 10, 4, 14, 20, 3, 13, 7, 22, 12, 2, 8, 18, 1, 11, 5, 15, 21, 6, 23, 29, 19, 9, 24, 34, 28, 38, 44, 27, 17, 32, 26, 16, 33, 43, 37, 31, 46, 36, 30, 45, 35, 25, 40, 50, 60, 54, 39, 56, 41, 51, 61, 55, 57, 42, 52, 62, 47, 53, 63, 59, 49, 58, 48]\n",
      "64\n"
     ]
    }
   ],
   "source": [
    "ktGraph = knightGraph(8)\n",
    "#print(ktGraph)\n",
    "path = []\n",
    "knightTour(ktGraph, 0, path, ktGraph.getVertex(0), 64)\n",
    "print(path)\n",
    "print(len(path))"
   ]
  },
  {
   "cell_type": "code",
   "execution_count": 41,
   "metadata": {},
   "outputs": [
    {
     "name": "stdout",
     "output_type": "stream",
     "text": [
      "\n",
      " 0   1   2   3   4   5   6   7  \n",
      " 8   9  10  11  12  13  14  15  \n",
      "16  17  18  19  20  21  22  23  \n",
      "24  25  26  27  28  29  30  31  \n",
      "32  33  34  35  36  37  38  39  \n",
      "40  41  42  43  44  45  46  47  \n",
      "48  49  50  51  52  53  54  55  \n",
      "56  57  58  59  60  61  62  63  "
     ]
    }
   ],
   "source": [
    "def drawBoard(bdSize):\n",
    "    for i in range(bdSize):\n",
    "        print(\"\")\n",
    "        for j in range(bdSize):\n",
    "            num = (i*bdSize) + j\n",
    "            if len(str(num)) == 1:\n",
    "                print(\"\", end=\" \")\n",
    "            print(num, end=\"  \")\n",
    "drawBoard(8)"
   ]
  },
  {
   "cell_type": "code",
   "execution_count": null,
   "metadata": {},
   "outputs": [],
   "source": []
  }
 ],
 "metadata": {
  "kernelspec": {
   "display_name": "Python 3",
   "language": "python",
   "name": "python3"
  },
  "language_info": {
   "codemirror_mode": {
    "name": "ipython",
    "version": 3
   },
   "file_extension": ".py",
   "mimetype": "text/x-python",
   "name": "python",
   "nbconvert_exporter": "python",
   "pygments_lexer": "ipython3",
   "version": "3.6.5"
  }
 },
 "nbformat": 4,
 "nbformat_minor": 2
}
