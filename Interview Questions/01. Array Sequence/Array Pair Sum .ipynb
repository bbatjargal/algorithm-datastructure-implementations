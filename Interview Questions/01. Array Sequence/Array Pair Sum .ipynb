{
 "cells": [
  {
   "cell_type": "markdown",
   "metadata": {},
   "source": [
    "# Array Pair Sum\n",
    "\n",
    "## Problem\n",
    "\n",
    "Given an integer array, output all the ** *unique* ** pairs that sum up to a specific value **k**.\n",
    "\n",
    "So the input:\n",
    "    \n",
    "    pair_sum([1,3,2,2],4)\n",
    "\n",
    "would return **2** pairs:\n",
    "\n",
    "     (1,3)\n",
    "     (2,2)\n",
    "\n",
    "**NOTE: FOR TESTING PURPOSES CHANGE YOUR FUNCTION SO IT OUTPUTS THE NUMBER OF PAIRS**\n",
    "\n",
    "## Solution\n",
    "\n",
    "Fill out your solution below:"
   ]
  },
  {
   "cell_type": "code",
   "execution_count": 252,
   "metadata": {},
   "outputs": [],
   "source": [
    "import copy\n",
    "def pair_sum(arr,k):\n",
    "    '''\n",
    "    subArray = []\n",
    "    subArray.append([])\n",
    "    \n",
    "    #arr = list(set(arr))\n",
    "    \n",
    "    while len(arr) > 0:\n",
    "        f = arr[0]\n",
    "        newPairs = []\n",
    "        for x in subArray:\n",
    "            newArr  = copy.deepcopy(x)\n",
    "            newArr.append(f)\n",
    "            newPairs.append(newArr)\n",
    "            \n",
    "        subArray.extend(newPairs)\n",
    "        del arr[0]\n",
    "    \n",
    "    Pairs = []\n",
    "    for sub in subArray:\n",
    "        if len(sub) == 2 and sum(sub) == k:\n",
    "            Pairs.append(sub) \n",
    "            \n",
    "    print(Pairs)       ''' \n",
    "    '''Pairs = []\n",
    "    for sub in subArray:\n",
    "        if len(sub) == 2:\n",
    "            Pairs.append(sub)\n",
    "    \n",
    "    print(Pairs)\n",
    "    SumOfPairsK = []\n",
    "    for p in Pairs:\n",
    "        #print(sum(p))\n",
    "        if sum(p) == k:\n",
    "            SumOfPairsK.append(p)'''\n",
    "    \n",
    "    '''\n",
    "    Pairs = []\n",
    "    ln = len(arr)\n",
    "    \n",
    "    for i in range(ln):\n",
    "        for j in range(ln):\n",
    "            if i != j and arr[i] + arr[j] == k:\n",
    "                aa = { arr[i], arr[j] }\n",
    "                if not aa in Pairs:\n",
    "                    Pairs.append(aa)'''\n",
    "    Pairs = []\n",
    "    #set for tracking\n",
    "    seen = set()\n",
    "    \n",
    "    for el in arr:\n",
    "        if k - el in seen:\n",
    "            Pairs.append([el, k-el])\n",
    "            seen.add(k-el)\n",
    "        else:\n",
    "             seen.add(el)\n",
    "    \n",
    "    seen = set()\n",
    "    pairs = []\n",
    "    \n",
    "    for num in arr:\n",
    "        target = k - num\n",
    "        if not target in seen:\n",
    "            seen.add( num )\n",
    "        else:\n",
    "            pairs.append( [ min(num, target), max( num, target ) ] )\n",
    "    \n",
    "    print(pairs)\n",
    "    return len(pairs)"
   ]
  },
  {
   "cell_type": "code",
   "execution_count": 253,
   "metadata": {},
   "outputs": [
    {
     "name": "stdout",
     "output_type": "stream",
     "text": [
      "[[1, 2], [1, 2]]\n"
     ]
    },
    {
     "data": {
      "text/plain": [
       "2"
      ]
     },
     "execution_count": 253,
     "metadata": {},
     "output_type": "execute_result"
    }
   ],
   "source": [
    "#pair_sum([1,3,2,2],4)\n",
    "pair_sum([1,3,2,2],3)"
   ]
  },
  {
   "cell_type": "markdown",
   "metadata": {},
   "source": [
    "# Test Your Solution"
   ]
  },
  {
   "cell_type": "code",
   "execution_count": 254,
   "metadata": {},
   "outputs": [
    {
     "name": "stdout",
     "output_type": "stream",
     "text": [
      "[[1, 9], [2, 8], [3, 7], [4, 6], [5, 5], [-1, 11]]\n",
      "[[1, 2]]\n",
      "[[1, 3], [2, 2]]\n",
      "ALL TEST CASES PASSED\n"
     ]
    }
   ],
   "source": [
    "\"\"\"\n",
    "RUN THIS CELL TO TEST YOUR SOLUTION\n",
    "\"\"\"\n",
    "from nose.tools import assert_equal\n",
    "\n",
    "class TestPair(object):\n",
    "    \n",
    "    def test(self,sol):\n",
    "        assert_equal(sol([1,9,2,8,3,7,4,6,5,5,13,14,11,13,-1],10),6)\n",
    "        assert_equal(sol([1,2,3,1],3),1)\n",
    "        assert_equal(sol([1,3,2,2],4),2)\n",
    "        print ('ALL TEST CASES PASSED')\n",
    "        \n",
    "#Run tests\n",
    "t = TestPair()\n",
    "t.test(pair_sum)\n",
    "    "
   ]
  },
  {
   "cell_type": "markdown",
   "metadata": {},
   "source": [
    "## Good Job!"
   ]
  },
  {
   "cell_type": "code",
   "execution_count": null,
   "metadata": {
    "collapsed": true
   },
   "outputs": [],
   "source": []
  },
  {
   "cell_type": "code",
   "execution_count": null,
   "metadata": {
    "collapsed": true
   },
   "outputs": [],
   "source": []
  }
 ],
 "metadata": {
  "kernelspec": {
   "display_name": "Python 3",
   "language": "python",
   "name": "python3"
  },
  "language_info": {
   "codemirror_mode": {
    "name": "ipython",
    "version": 3
   },
   "file_extension": ".py",
   "mimetype": "text/x-python",
   "name": "python",
   "nbconvert_exporter": "python",
   "pygments_lexer": "ipython3",
   "version": "3.6.3"
  }
 },
 "nbformat": 4,
 "nbformat_minor": 1
}
