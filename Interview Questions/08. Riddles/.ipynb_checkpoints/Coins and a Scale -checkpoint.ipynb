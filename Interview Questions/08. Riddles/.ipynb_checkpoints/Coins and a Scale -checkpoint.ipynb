{
 "cells": [
  {
   "cell_type": "markdown",
   "metadata": {},
   "source": [
    "# Coins and a Scale \n",
    "## Problem Statement\n",
    "\n",
    "You have eight coins and a two-pan scale. All the coins weigh the same, **except for one** which is heavier than all the others. The coins are otherwise indistinguishable. You may make no assumptions about how much heavier the heavy coin is. What is the minimum number of weighings needed to be certain of identifying the heavy coin?"
   ]
  },
  {
   "cell_type": "code",
   "execution_count": null,
   "metadata": {},
   "outputs": [],
   "source": [
    "# normal one\n",
    "\n",
    "3-time solution\n",
    "\n",
    "4 / 4\n",
    "2 / 2\n",
    "1 / 1\n",
    "\n",
    "2-time solution\n",
    "\n",
    "3 / 3\n",
    "if it equals:\n",
    "    1 / 1 found\n",
    "not equal:\n",
    "    1 / 1 -> \n",
    "        not equal found\n",
    "        equal found"
   ]
  }
 ],
 "metadata": {
  "kernelspec": {
   "display_name": "Python 3",
   "language": "python",
   "name": "python3"
  },
  "language_info": {
   "codemirror_mode": {
    "name": "ipython",
    "version": 3
   },
   "file_extension": ".py",
   "mimetype": "text/x-python",
   "name": "python",
   "nbconvert_exporter": "python",
   "pygments_lexer": "ipython3",
   "version": "3.6.5"
  }
 },
 "nbformat": 4,
 "nbformat_minor": 1
}
