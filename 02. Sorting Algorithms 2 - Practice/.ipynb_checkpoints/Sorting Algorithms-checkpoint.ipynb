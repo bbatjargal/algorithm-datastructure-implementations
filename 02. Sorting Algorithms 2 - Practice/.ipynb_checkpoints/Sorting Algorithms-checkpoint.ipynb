{
 "cells": [
  {
   "cell_type": "markdown",
   "metadata": {},
   "source": [
    "# Sorting Algorithms\n",
    "\n",
    "reference: https://visualgo.net/en/sorting"
   ]
  },
  {
   "cell_type": "code",
   "execution_count": 2,
   "metadata": {},
   "outputs": [],
   "source": [
    "# helper function\n",
    "\n",
    "def swap(arr, i, j):\n",
    "    temp = arr[i]\n",
    "    arr[i] = arr[j]\n",
    "    arr[j] = temp"
   ]
  },
  {
   "cell_type": "markdown",
   "metadata": {},
   "source": [
    "## Bubble Sort"
   ]
  },
  {
   "cell_type": "code",
   "execution_count": 10,
   "metadata": {},
   "outputs": [
    {
     "name": "stdout",
     "output_type": "stream",
     "text": [
      "[4, 4, 5, 7, 8, 21, 23, 94]\n"
     ]
    }
   ],
   "source": [
    "def bubbleSorting(arr):\n",
    "    lastSwapIndex = len(arr) - 1\n",
    "    isSorted = False\n",
    "    for i in range(len(arr)):\n",
    "        isSorted = True\n",
    "        for j in range(lastSwapIndex):\n",
    "            if arr[j] > arr[j+1]:\n",
    "                swap(arr, j, j+1)\n",
    "                lastSwapIndex = j\n",
    "                isSorted = False\n",
    "        if isSorted:\n",
    "            break                \n",
    "    pass\n",
    "\n",
    "arr = [21,4,5,4,7,8,94,23]\n",
    "bubbleSorting(arr)\n",
    "print(arr)\n",
    "        "
   ]
  },
  {
   "cell_type": "markdown",
   "metadata": {},
   "source": [
    "## Selection Sort"
   ]
  },
  {
   "cell_type": "code",
   "execution_count": 14,
   "metadata": {},
   "outputs": [
    {
     "name": "stdout",
     "output_type": "stream",
     "text": [
      "[4, 4, 5, 7, 8, 21, 23, 94]\n"
     ]
    }
   ],
   "source": [
    "def selectionSorting(arr):\n",
    "    for i in range(len(arr)):\n",
    "        minIndex = i\n",
    "        for j in range(i+1, len(arr)):\n",
    "            if arr[minIndex] > arr[j]:\n",
    "                minIndex = j\n",
    "        swap(arr, minIndex, i)\n",
    "    pass\n",
    "arr = [21,4,5,4,7,8,94,23]\n",
    "selectionSorting(arr)\n",
    "print(arr)\n"
   ]
  },
  {
   "cell_type": "markdown",
   "metadata": {},
   "source": [
    "##  Insertion Sort"
   ]
  },
  {
   "cell_type": "code",
   "execution_count": 23,
   "metadata": {},
   "outputs": [
    {
     "name": "stdout",
     "output_type": "stream",
     "text": [
      "[4, 4, 5, 7, 8, 21, 23, 94]\n"
     ]
    }
   ],
   "source": [
    "def insertionSorting(arr):\n",
    "    for i in range(1, len(arr)):\n",
    "        \n",
    "        temp = arr[i]\n",
    "        j = i\n",
    "        while j > 0 and arr[j] < arr[j-1]:\n",
    "            swap(arr, j, j-1)\n",
    "            j-=1\n",
    "        arr[j] = temp\n",
    "\n",
    "arr = [21,4,5,4,7,8,94,23]\n",
    "insertionSorting(arr)\n",
    "print(arr)  \n",
    "        "
   ]
  },
  {
   "cell_type": "markdown",
   "metadata": {},
   "source": [
    "## Merge Sort"
   ]
  },
  {
   "cell_type": "code",
   "execution_count": 41,
   "metadata": {},
   "outputs": [
    {
     "name": "stdout",
     "output_type": "stream",
     "text": [
      "[4, 4, 5, 7, 8, 21, 23, 94]\n"
     ]
    }
   ],
   "source": [
    "def mergeSorting(arr, left, right):\n",
    "    if left >= right:\n",
    "        return\n",
    "    \n",
    "    mid = (left + right) // 2\n",
    "    mergeSorting(arr, left, mid)\n",
    "    mergeSorting(arr, mid+1, right)\n",
    "    merge(arr, left, mid, right)\n",
    "\n",
    "def merge(arr, left, mid, right):\n",
    "    i = left\n",
    "    j = mid + 1\n",
    "    \n",
    "    index = 0\n",
    "    tempArray = [None] * (right - left + 1)\n",
    "    \n",
    "    while i <= mid and j <= right: # i <= j and \n",
    "        \n",
    "        if arr[i] < arr[j]:\n",
    "            tempArray[index] = arr[i]\n",
    "            i+=1\n",
    "        else:\n",
    "            tempArray[index] = arr[j]\n",
    "            j+=1\n",
    "        index += 1\n",
    "        \n",
    "    \n",
    "    while i <= mid:\n",
    "        tempArray[index] = arr[i]\n",
    "        i += 1\n",
    "        index += 1\n",
    "        \n",
    "    while j <= right:\n",
    "        tempArray[index] = arr[j]\n",
    "        j += 1\n",
    "        index += 1\n",
    "    \n",
    "    for i in range(len(tempArray)):\n",
    "        arr[left+i] = tempArray[i]\n",
    "\n",
    "\n",
    "arr = [21,4,5,4,7,8,94,23]\n",
    "mergeSorting(arr, 0, len(arr)-1)\n",
    "print(arr)          \n",
    "        \n",
    "    "
   ]
  },
  {
   "cell_type": "markdown",
   "metadata": {},
   "source": [
    "## Quick Sort "
   ]
  },
  {
   "cell_type": "code",
   "execution_count": 47,
   "metadata": {},
   "outputs": [
    {
     "name": "stdout",
     "output_type": "stream",
     "text": [
      "[21, 4, 5, 4, 7, 8, 94, 23]\n",
      "[21, 4, 5, 4, 7, 8, 23, 94]\n",
      "[4, 5, 4, 7, 8, 21, 23, 94]\n",
      "[4, 5, 4, 7, 8, 21, 23, 94]\n",
      "[4, 4, 5, 7, 8, 21, 23, 94]\n"
     ]
    }
   ],
   "source": [
    "def partition(arr, left, right):    \n",
    "    pivot = arr[right]    \n",
    "    i = left - 1    \n",
    "    for j in range(left, right):\n",
    "        if arr[j] <= pivot:\n",
    "            i+=1\n",
    "            swap(arr, i, j)\n",
    "            \n",
    "    swap(arr, i+1, right)\n",
    "    return i+1\n",
    "    \n",
    "def quickSorting(arr, left, right):\n",
    "    if left >= right:\n",
    "        return\n",
    "    print(arr)\n",
    "    k = partition(arr, left, right)    \n",
    "    quickSorting(arr, left, k-1)\n",
    "    quickSorting(arr, k+1, right)\n",
    "\n",
    "arr = [21,4,5,4,7,8,94,23]\n",
    "quickSorting(arr, 0, len(arr)-1)\n",
    "print(arr)       "
   ]
  },
  {
   "cell_type": "markdown",
   "metadata": {},
   "source": [
    "## Shell Sort "
   ]
  },
  {
   "cell_type": "code",
   "execution_count": 49,
   "metadata": {},
   "outputs": [
    {
     "name": "stdout",
     "output_type": "stream",
     "text": [
      "[4, 4, 5, 7, 8, 21, 23, 94]\n"
     ]
    }
   ],
   "source": [
    "def shellSorting(arr):\n",
    "    \n",
    "    sublistcount = len(arr) // 2\n",
    "    while sublistcount > 0:\n",
    "        for start in range(sublistcount):\n",
    "            gap_insertion_sort(arr, start, sublistcount)            \n",
    "        sublistcount = sublistcount // 2\n",
    "        \n",
    "def gap_insertion_sort(arr, start, gap):\n",
    "    for i in range(start+gap, len(arr), gap):\n",
    "        currentValue = arr[i]\n",
    "        position = i\n",
    "        while position >= gap and arr[position-gap] > currentValue:\n",
    "            arr[position] = arr[position-gap]\n",
    "            position -= gap\n",
    "        arr[position] = currentValue\n",
    "\n",
    "arr = [21,4,5,4,7,8,94,23]\n",
    "shellSorting(arr)\n",
    "print(arr) "
   ]
  },
  {
   "cell_type": "code",
   "execution_count": null,
   "metadata": {},
   "outputs": [],
   "source": []
  }
 ],
 "metadata": {
  "kernelspec": {
   "display_name": "Python 3",
   "language": "python",
   "name": "python3"
  },
  "language_info": {
   "codemirror_mode": {
    "name": "ipython",
    "version": 3
   },
   "file_extension": ".py",
   "mimetype": "text/x-python",
   "name": "python",
   "nbconvert_exporter": "python",
   "pygments_lexer": "ipython3",
   "version": "3.6.5"
  }
 },
 "nbformat": 4,
 "nbformat_minor": 2
}
