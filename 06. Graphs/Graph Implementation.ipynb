{
 "cells": [
  {
   "cell_type": "markdown",
   "metadata": {},
   "source": [
    "##  Graph Implementation (Adjacency List)"
   ]
  },
  {
   "cell_type": "code",
   "execution_count": 40,
   "metadata": {},
   "outputs": [],
   "source": [
    "class Vertex:\n",
    "    def __init__(self, key):\n",
    "        self.id = key\n",
    "        self.connectedTo = {}\n",
    "        \n",
    "    def addNeighbor(self, key, weight):\n",
    "        self.connectedTo[key] = weight\n",
    "    \n",
    "    def getNeighbors(self):\n",
    "        return self.connectedTo.keys()\n",
    "    \n",
    "    def getKey(self):\n",
    "        return self.id\n",
    "    \n",
    "    def __str__(self):\n",
    "        return str(self.id) + \" connected to: \" + str([ x for x in self.connectedTo])\n",
    "    \n",
    "class Graph:\n",
    "    def __init__(self):\n",
    "        self.vertList = {}\n",
    "        self.numVertices = 0\n",
    "        \n",
    "    def addVertex(self, key):\n",
    "        self.numVertices += 1\n",
    "        self.vertList[key] = Vertex(key)\n",
    "        return self.vertList[key]\n",
    "    \n",
    "    def getVertex(self, key):\n",
    "        if key in self.vertList.keys():\n",
    "            return self.vertList[key]\n",
    "        return None\n",
    "    \n",
    "    def getVertices(self):\n",
    "        return self.vertList.keys()\n",
    "    \n",
    "    def addEdge(self, frm, to, weight=0):\n",
    "        if frm not in self.vertList:\n",
    "            self.addVertex(frm)\n",
    "            \n",
    "        if to not in self.vertList:\n",
    "            self.toVertex(to)\n",
    "            \n",
    "        self.vertList[frm].addNeighbor(to, weight)\n",
    "        \n",
    "    def __iter__(self):\n",
    "        return iter(self.vertList.values())\n",
    "    \n",
    "    def __contains__(self, key):\n",
    "        return key in self.vertList.keys()\n",
    "    \n",
    "    def __str__(self):\n",
    "        result = \"\"\n",
    "        for vert in self.vertList:\n",
    "            result += str(self.vertList[vert]) + \"\\n\"\n",
    "        return result\n",
    "           "
   ]
  },
  {
   "cell_type": "code",
   "execution_count": 41,
   "metadata": {},
   "outputs": [
    {
     "name": "stdout",
     "output_type": "stream",
     "text": [
      "1 connected to: [3, 2]\n",
      "2 connected to: [3, 1]\n",
      "3 connected to: [1]\n",
      "\n"
     ]
    }
   ],
   "source": [
    "graph = Graph()\n",
    "graph.addVertex(1)\n",
    "graph.addVertex(2)\n",
    "graph.addVertex(3)\n",
    "\n",
    "graph.addEdge(1, 3)\n",
    "graph.addEdge(1, 2)\n",
    "\n",
    "\n",
    "graph.addEdge(2, 3)\n",
    "graph.addEdge(2, 1)\n",
    "\n",
    "\n",
    "graph.addEdge(3, 1)\n",
    "\n",
    "print(graph)"
   ]
  },
  {
   "cell_type": "code",
   "execution_count": null,
   "metadata": {},
   "outputs": [],
   "source": []
  }
 ],
 "metadata": {
  "kernelspec": {
   "display_name": "Python 3",
   "language": "python",
   "name": "python3"
  },
  "language_info": {
   "codemirror_mode": {
    "name": "ipython",
    "version": 3
   },
   "file_extension": ".py",
   "mimetype": "text/x-python",
   "name": "python",
   "nbconvert_exporter": "python",
   "pygments_lexer": "ipython3",
   "version": "3.6.5"
  }
 },
 "nbformat": 4,
 "nbformat_minor": 2
}
